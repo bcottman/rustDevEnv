{
 "cells": [
  {
   "cell_type": "code",
   "execution_count": null,
   "id": "a121bd5c",
   "metadata": {},
   "outputs": [],
   "source": []
  },
  {
   "cell_type": "markdown",
   "id": "48e4ad4f",
   "metadata": {},
   "source": [
    "# Hello, world"
   ]
  },
  {
   "cell_type": "code",
   "execution_count": 10,
   "id": "b40dff2a",
   "metadata": {
    "ExecuteTime": {
     "end_time": "2023-04-17T21:31:00.531001Z",
     "start_time": "2023-04-17T21:30:59.989Z"
    }
   },
   "outputs": [],
   "source": [
    "fn main() {\n",
    "    println!(\"Hello, world!\");\n",
    "}"
   ]
  },
  {
   "cell_type": "code",
   "execution_count": 11,
   "id": "e03b61a5",
   "metadata": {
    "ExecuteTime": {
     "end_time": "2023-04-17T21:31:18.500745Z",
     "start_time": "2023-04-17T21:31:17.706Z"
    }
   },
   "outputs": [
    {
     "name": "stdout",
     "output_type": "stream",
     "text": [
      "Hello, world!\n"
     ]
    },
    {
     "data": {
      "text/plain": [
       "()"
      ]
     },
     "execution_count": 11,
     "metadata": {},
     "output_type": "execute_result"
    }
   ],
   "source": [
    "main()"
   ]
  },
  {
   "cell_type": "markdown",
   "id": "2ed62700",
   "metadata": {},
   "source": [
    "# num_cores"
   ]
  },
  {
   "cell_type": "code",
   "execution_count": 6,
   "id": "120fb624",
   "metadata": {
    "ExecuteTime": {
     "end_time": "2023-04-17T21:13:20.403596Z",
     "start_time": "2023-04-17T21:13:19.702Z"
    }
   },
   "outputs": [],
   "source": [
    "extern crate num_cpus;\n",
    "\n",
    "fn num_cores() -> usize {\n",
    "    num_cpus::get()\n",
    "}\n"
   ]
  },
  {
   "cell_type": "code",
   "execution_count": 7,
   "id": "bc018a8b",
   "metadata": {
    "ExecuteTime": {
     "end_time": "2023-04-17T21:13:37.425254Z",
     "start_time": "2023-04-17T21:13:36.622Z"
    }
   },
   "outputs": [
    {
     "data": {
      "text/plain": [
       "24"
      ]
     },
     "execution_count": 7,
     "metadata": {},
     "output_type": "execute_result"
    }
   ],
   "source": [
    "num_cores()"
   ]
  },
  {
   "cell_type": "markdown",
   "id": "ca3d2c67",
   "metadata": {},
   "source": [
    "# fibonacci"
   ]
  },
  {
   "cell_type": "code",
   "execution_count": 8,
   "id": "8ff1d864",
   "metadata": {
    "ExecuteTime": {
     "end_time": "2023-04-17T21:27:34.219375Z",
     "start_time": "2023-04-17T21:27:33.661Z"
    }
   },
   "outputs": [],
   "source": [
    "fn fibonacci(n: i32) -> i32 {\n",
    "    if n < 0 {\n",
    "        panic!(\"Fibonacci sequence is only defined for non-negative numbers\");\n",
    "    }\n",
    "    if n == 0 {\n",
    "        0\n",
    "    } else if n == 1 {\n",
    "        1\n",
    "    } else {\n",
    "        fibonacci(n - 1) + fibonacci(n - 2)\n",
    "    }\n",
    "}\n"
   ]
  },
  {
   "cell_type": "code",
   "execution_count": 9,
   "id": "2d212d9c",
   "metadata": {
    "ExecuteTime": {
     "end_time": "2023-04-17T21:27:38.370372Z",
     "start_time": "2023-04-17T21:27:37.694Z"
    }
   },
   "outputs": [
    {
     "data": {
      "text/plain": [
       "55"
      ]
     },
     "execution_count": 9,
     "metadata": {},
     "output_type": "execute_result"
    }
   ],
   "source": [
    "fibonacci(10)"
   ]
  },
  {
   "cell_type": "code",
   "execution_count": 12,
   "id": "267d887d",
   "metadata": {
    "ExecuteTime": {
     "end_time": "2023-04-17T21:35:23.388953Z",
     "start_time": "2023-04-17T21:35:22.535Z"
    }
   },
   "outputs": [
    {
     "name": "stderr",
     "output_type": "stream",
     "text": [
      "thread '<unnamed>' panicked at 'Fibonacci sequence is only defined for non-negative numbers', src/lib.rs:12:9\n",
      "stack backtrace:\n",
      "   0: _rust_begin_unwind\n",
      "   1: core::panicking::panic_fmt\n",
      "   2: _run_user_code_11\n",
      "   3: evcxr::runtime::Runtime::run_loop\n",
      "   4: evcxr::runtime::runtime_hook\n",
      "   5: evcxr_jupyter::main\n",
      "note: Some details are omitted, run with `RUST_BACKTRACE=full` for a verbose backtrace.\n"
     ]
    }
   ],
   "source": [
    "fibonacci(-10)"
   ]
  },
  {
   "cell_type": "code",
   "execution_count": 15,
   "id": "3bc5543d",
   "metadata": {
    "ExecuteTime": {
     "end_time": "2023-04-17T21:42:21.887650Z",
     "start_time": "2023-04-17T21:42:21.481Z"
    }
   },
   "outputs": [],
   "source": [
    "#[test]\n",
    "fn test_fibonacci() {\n",
    "    assert_eq!(fibonacci(0), 0);\n",
    "    assert_eq!(fibonacci(1), 1);\n",
    "    assert_eq!(fibonacci(2), 1);\n",
    "    assert_eq!(fibonacci(3), 2);\n",
    "    assert_eq!(fibonacci(4), 3);\n",
    "    assert_eq!(fibonacci(5), 5);\n",
    "    assert_eq!(fibonacci(6), 8);\n",
    "    assert_eq!(fibonacci(7), 13);\n",
    "}"
   ]
  },
  {
   "cell_type": "code",
   "execution_count": 14,
   "id": "142078b7",
   "metadata": {
    "ExecuteTime": {
     "end_time": "2023-04-17T21:42:10.332298Z",
     "start_time": "2023-04-17T21:42:09.682Z"
    }
   },
   "outputs": [
    {
     "ename": "Error",
     "evalue": "cannot find function `test_fibonacci` in this scope",
     "output_type": "error",
     "traceback": [
      "\u001b[31m[E0425] Error:\u001b[0m cannot find function `test_fibonacci` in this scope",
      "   \u001b[38;5;246m╭\u001b[0m\u001b[38;5;246m─\u001b[0m\u001b[38;5;246m[\u001b[0mcommand_14:1:1\u001b[38;5;246m]\u001b[0m",
      "   \u001b[38;5;246m│\u001b[0m",
      " \u001b[38;5;246m1 │\u001b[0m \u001b[38;5;54mt\u001b[0m\u001b[38;5;54me\u001b[0m\u001b[38;5;54ms\u001b[0m\u001b[38;5;54mt\u001b[0m\u001b[38;5;54m_\u001b[0m\u001b[38;5;54mf\u001b[0m\u001b[38;5;54mi\u001b[0m\u001b[38;5;54mb\u001b[0m\u001b[38;5;54mo\u001b[0m\u001b[38;5;54mn\u001b[0m\u001b[38;5;54ma\u001b[0m\u001b[38;5;54mc\u001b[0m\u001b[38;5;54mc\u001b[0m\u001b[38;5;54mi\u001b[0m\u001b[38;5;249m(\u001b[0m\u001b[38;5;249m)\u001b[0m",
      " \u001b[38;5;246m  ·\u001b[0m \u001b[38;5;54m─\u001b[0m\u001b[38;5;54m─\u001b[0m\u001b[38;5;54m─\u001b[0m\u001b[38;5;54m─\u001b[0m\u001b[38;5;54m─\u001b[0m\u001b[38;5;54m─\u001b[0m\u001b[38;5;54m─\u001b[0m\u001b[38;5;54m┬\u001b[0m\u001b[38;5;54m─\u001b[0m\u001b[38;5;54m─\u001b[0m\u001b[38;5;54m─\u001b[0m\u001b[38;5;54m─\u001b[0m\u001b[38;5;54m─\u001b[0m\u001b[38;5;54m─\u001b[0m  ",
      " \u001b[38;5;246m  ·\u001b[0m        \u001b[38;5;54m╰\u001b[0m\u001b[38;5;54m─\u001b[0m\u001b[38;5;54m─\u001b[0m\u001b[38;5;54m─\u001b[0m\u001b[38;5;54m─\u001b[0m\u001b[38;5;54m─\u001b[0m\u001b[38;5;54m─\u001b[0m\u001b[38;5;54m─\u001b[0m\u001b[38;5;54m─\u001b[0m not found in this scope",
      "\u001b[38;5;246m───╯\u001b[0m"
     ]
    }
   ],
   "source": [
    "test_fibonacci()\n"
   ]
  },
  {
   "cell_type": "code",
   "execution_count": null,
   "id": "4c5655e8",
   "metadata": {},
   "outputs": [],
   "source": []
  },
  {
   "cell_type": "markdown",
   "id": "d5472aee",
   "metadata": {},
   "source": [
    "## testing"
   ]
  },
  {
   "cell_type": "code",
   "execution_count": null,
   "id": "54d1f867",
   "metadata": {},
   "outputs": [],
   "source": []
  },
  {
   "cell_type": "code",
   "execution_count": null,
   "id": "0a4425e5",
   "metadata": {},
   "outputs": [],
   "source": []
  },
  {
   "cell_type": "code",
   "execution_count": null,
   "id": "b9cdaacb",
   "metadata": {},
   "outputs": [],
   "source": []
  },
  {
   "cell_type": "code",
   "execution_count": null,
   "id": "4dd3f47f",
   "metadata": {},
   "outputs": [],
   "source": []
  },
  {
   "cell_type": "code",
   "execution_count": null,
   "id": "72b10c5c",
   "metadata": {},
   "outputs": [],
   "source": []
  },
  {
   "cell_type": "code",
   "execution_count": null,
   "id": "e33c9fd4",
   "metadata": {},
   "outputs": [],
   "source": []
  },
  {
   "cell_type": "code",
   "execution_count": null,
   "id": "f4f9f222",
   "metadata": {},
   "outputs": [],
   "source": []
  }
 ],
 "metadata": {
  "hide_input": false,
  "kernelspec": {
   "display_name": "Rust",
   "language": "rust",
   "name": "rust"
  },
  "language_info": {
   "codemirror_mode": "rust",
   "file_extension": ".rs",
   "mimetype": "text/rust",
   "name": "Rust",
   "pygment_lexer": "rust",
   "version": ""
  },
  "toc": {
   "base_numbering": 1,
   "nav_menu": {},
   "number_sections": true,
   "sideBar": true,
   "skip_h1_title": false,
   "title_cell": "Table of Contents",
   "title_sidebar": "Contents",
   "toc_cell": false,
   "toc_position": {},
   "toc_section_display": true,
   "toc_window_display": false
  }
 },
 "nbformat": 4,
 "nbformat_minor": 5
}
